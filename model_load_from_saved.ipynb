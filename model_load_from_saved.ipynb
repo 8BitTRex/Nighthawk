{
 "cells": [
  {
   "cell_type": "code",
   "execution_count": 1,
   "id": "e032d398-2d46-45df-9270-6d2369ab3e07",
   "metadata": {},
   "outputs": [
    {
     "name": "stderr",
     "output_type": "stream",
     "text": [
      "2022-12-04 10:28:46.863366: I tensorflow/core/platform/cpu_feature_guard.cc:193] This TensorFlow binary is optimized with oneAPI Deep Neural Network Library (oneDNN) to use the following CPU instructions in performance-critical operations:  SSE4.1 SSE4.2 AVX AVX2 FMA\n",
      "To enable them in other operations, rebuild TensorFlow with the appropriate compiler flags.\n"
     ]
    },
    {
     "name": "stdout",
     "output_type": "stream",
     "text": [
      "2.10.0\n"
     ]
    }
   ],
   "source": [
    "import os\n",
    "import tensorflow as tf\n",
    "print(tf.__version__)\n",
    "import numpy as np\n",
    "import run_reconstructed_model"
   ]
  },
  {
   "cell_type": "code",
   "execution_count": 2,
   "id": "d5b790c2-c810-4420-b157-0a1c4c49a054",
   "metadata": {},
   "outputs": [],
   "source": [
    "# SPECIFY DIRECTORY OF EXPORTED MODEL\n",
    "\n",
    "trained_saved_model_dir = \".\""
   ]
  },
  {
   "cell_type": "code",
   "execution_count": 3,
   "id": "5a4249aa-1233-40af-9971-5552202edfab",
   "metadata": {},
   "outputs": [],
   "source": [
    "# Output dir for saved model with preprocessing\n",
    "saved_model_with_preprocessing_dir = os.path.join(trained_saved_model_dir, \"saved_model_with_preprocessing\")\n"
   ]
  },
  {
   "cell_type": "code",
   "execution_count": 4,
   "id": "412a3953-79f5-4b1b-864b-a6f302fd5cef",
   "metadata": {},
   "outputs": [
    {
     "name": "stderr",
     "output_type": "stream",
     "text": [
      "2022-12-04 10:28:54.335386: I tensorflow/core/platform/cpu_feature_guard.cc:193] This TensorFlow binary is optimized with oneAPI Deep Neural Network Library (oneDNN) to use the following CPU instructions in performance-critical operations:  SSE4.1 SSE4.2 AVX AVX2 FMA\n",
      "To enable them in other operations, rebuild TensorFlow with the appropriate compiler flags.\n"
     ]
    }
   ],
   "source": [
    "reconstructed_model = tf.saved_model.load(saved_model_with_preprocessing_dir)"
   ]
  },
  {
   "cell_type": "code",
   "execution_count": 5,
   "id": "e24555b9-3a31-44cd-b0f2-8afc9cfa14f9",
   "metadata": {},
   "outputs": [],
   "source": [
    "test_input_fp = os.path.join(trained_saved_model_dir, \"test_inputs\",\"test_input.npy\")\n",
    "loaded_input = np.load(test_input_fp)\n",
    "test_input = tf.convert_to_tensor(loaded_input, dtype=tf.float32)"
   ]
  },
  {
   "cell_type": "code",
   "execution_count": 6,
   "id": "19a3484c-3098-42ad-8c3a-9f2bf982bac8",
   "metadata": {},
   "outputs": [],
   "source": [
    "y = reconstructed_model(test_input)"
   ]
  },
  {
   "cell_type": "code",
   "execution_count": 7,
   "id": "4bc43b89-c798-4160-9dbc-1cdcbcf3c116",
   "metadata": {},
   "outputs": [
    {
     "name": "stdout",
     "output_type": "stream",
     "text": [
      "tf.Tensor(-1.6962236, shape=(), dtype=float32)\n",
      "tf.Tensor(-3.808238, shape=(), dtype=float32)\n"
     ]
    }
   ],
   "source": [
    "print(y[0][0][0])\n",
    "# EXPECTED: tf.Tensor(-1.6962206, shape=(), dtype=float32)\n",
    "print(y[3][0][0])\n",
    "# EXPECTED: tf.Tensor(-3.8082335, shape=(), dtype=float32)"
   ]
  },
  {
   "cell_type": "code",
   "execution_count": 8,
   "id": "ffe213cb-5249-48de-819e-2a194353d18c",
   "metadata": {},
   "outputs": [],
   "source": [
    "# try processing a file\n",
    "\n",
    "test_filename = os.path.join(trained_saved_model_dir, \"test_inputs\",\"LEBI.20110509.030808.46.wav\")\n",
    "\n",
    "target_sr = 22050\n",
    "clip_length_sec = 1\n",
    "stride_sec = 1\n",
    "\n",
    "taxonomy_dir = os.path.join(trained_saved_model_dir, \"taxonomy\")\n",
    "\n",
    "species_list_fp= os.path.join(taxonomy_dir, \"species_select_v5.txt\")\n",
    "group_list_fp  = os.path.join(taxonomy_dir, \"groups_select_v5.txt\")\n",
    "family_list_fp = os.path.join(taxonomy_dir,\"families_select_v5.txt\")\n",
    "order_list_fp  = os.path.join(taxonomy_dir,\"orders_select_v5.txt\")\n",
    "\n",
    "taxonomy_fp = os.path.join(taxonomy_dir,\"ebird_taxonomy.csv\")\n",
    "group_map_fp = os.path.join(taxonomy_dir,\"groups_ebird_codes.csv\")\n",
    "\n",
    "# this has the species subset\n",
    "test_config_dir = os.path.join(trained_saved_model_dir, \"test_config\")\n",
    "\n",
    "test_config_fp = os.path.join(test_config_dir,\"test_config.json\")\n",
    "\n",
    "# calibrators\n",
    "calibrators_fp = os.path.join(test_config_dir,\"calibrators_dict.obj\")\n"
   ]
  },
  {
   "cell_type": "code",
   "execution_count": 11,
   "id": "3da2e4be-edc9-40ef-bd70-4ca3c28ead14",
   "metadata": {},
   "outputs": [
    {
     "name": "stdout",
     "output_type": "stream",
     "text": [
      "loading taxonomy\n",
      "using taxon subset\n",
      "processing file: streaming from file\n",
      "processed 24.0 s of audio in 0.6 s (37.2x)\n",
      "predictions generated\n",
      "doing calibration\n",
      "merging taxonomic predictions\n",
      "done\n"
     ]
    },
    {
     "name": "stderr",
     "output_type": "stream",
     "text": [
      "/Users/benjamin/opt/anaconda3/envs/tf-2.1/lib/python3.10/site-packages/sklearn/base.py:329: UserWarning: Trying to unpickle estimator _SigmoidCalibration from version 1.0.1 when using version 1.1.3. This might lead to breaking code or invalid results. Use at your own risk. For more info please refer to:\n",
      "https://scikit-learn.org/stable/model_persistence.html#security-maintainability-limitations\n",
      "  warnings.warn(\n"
     ]
    }
   ],
   "source": [
    "detect_df = run_reconstructed_model.run_model_on_file(\n",
    "                    reconstructed_model, #####\n",
    "                      test_filename,\n",
    "                        target_sr,\n",
    "                        clip_length_sec,\n",
    "                        stride_sec,\n",
    "                        species_list_fp,\n",
    "                        group_list_fp,  \n",
    "                        family_list_fp, \n",
    "                        order_list_fp,\n",
    "                        taxonomy_fp,\n",
    "                        group_map_fp,\n",
    "                        calibrators_fp=calibrators_fp,\n",
    "                        test_config_fp=test_config_fp,\n",
    "                        quiet=False,\n",
    "                        stream=True # don't load whole file into memory at once\n",
    "            )"
   ]
  },
  {
   "cell_type": "code",
   "execution_count": 12,
   "id": "e48bf46a-cde8-4f2f-b4e4-0488f75c6524",
   "metadata": {},
   "outputs": [
    {
     "data": {
      "text/html": [
       "<div>\n",
       "<style scoped>\n",
       "    .dataframe tbody tr th:only-of-type {\n",
       "        vertical-align: middle;\n",
       "    }\n",
       "\n",
       "    .dataframe tbody tr th {\n",
       "        vertical-align: top;\n",
       "    }\n",
       "\n",
       "    .dataframe thead th {\n",
       "        text-align: right;\n",
       "    }\n",
       "</style>\n",
       "<table border=\"1\" class=\"dataframe\">\n",
       "  <thead>\n",
       "    <tr style=\"text-align: right;\">\n",
       "      <th></th>\n",
       "      <th>start_sec</th>\n",
       "      <th>end_sec</th>\n",
       "      <th>filename</th>\n",
       "      <th>path</th>\n",
       "      <th>order</th>\n",
       "      <th>prob_order</th>\n",
       "      <th>family</th>\n",
       "      <th>prob_family</th>\n",
       "      <th>group</th>\n",
       "      <th>prob_group</th>\n",
       "      <th>species</th>\n",
       "      <th>prob_species</th>\n",
       "      <th>class</th>\n",
       "      <th>prob</th>\n",
       "    </tr>\n",
       "  </thead>\n",
       "  <tbody>\n",
       "    <tr>\n",
       "      <th>0</th>\n",
       "      <td>5</td>\n",
       "      <td>6</td>\n",
       "      <td>LEBI.20110509.030808.46.wav</td>\n",
       "      <td>./test_inputs/LEBI.20110509.030808.46.wav</td>\n",
       "      <td>Pelecaniformes</td>\n",
       "      <td>0.972657</td>\n",
       "      <td>Ardeidae</td>\n",
       "      <td>0.974137</td>\n",
       "      <td>NaN</td>\n",
       "      <td>NaN</td>\n",
       "      <td>leabit</td>\n",
       "      <td>0.999182</td>\n",
       "      <td>leabit</td>\n",
       "      <td>0.999182</td>\n",
       "    </tr>\n",
       "    <tr>\n",
       "      <th>1</th>\n",
       "      <td>12</td>\n",
       "      <td>13</td>\n",
       "      <td>LEBI.20110509.030808.46.wav</td>\n",
       "      <td>./test_inputs/LEBI.20110509.030808.46.wav</td>\n",
       "      <td>Pelecaniformes</td>\n",
       "      <td>0.973123</td>\n",
       "      <td>Ardeidae</td>\n",
       "      <td>0.974991</td>\n",
       "      <td>NaN</td>\n",
       "      <td>NaN</td>\n",
       "      <td>leabit</td>\n",
       "      <td>0.999848</td>\n",
       "      <td>leabit</td>\n",
       "      <td>0.999848</td>\n",
       "    </tr>\n",
       "    <tr>\n",
       "      <th>2</th>\n",
       "      <td>20</td>\n",
       "      <td>21</td>\n",
       "      <td>LEBI.20110509.030808.46.wav</td>\n",
       "      <td>./test_inputs/LEBI.20110509.030808.46.wav</td>\n",
       "      <td>Pelecaniformes</td>\n",
       "      <td>0.863307</td>\n",
       "      <td>Ardeidae</td>\n",
       "      <td>0.836264</td>\n",
       "      <td>NaN</td>\n",
       "      <td>NaN</td>\n",
       "      <td>NaN</td>\n",
       "      <td>NaN</td>\n",
       "      <td>Ardeidae</td>\n",
       "      <td>0.836264</td>\n",
       "    </tr>\n",
       "  </tbody>\n",
       "</table>\n",
       "</div>"
      ],
      "text/plain": [
       "   start_sec  end_sec                     filename  \\\n",
       "0          5        6  LEBI.20110509.030808.46.wav   \n",
       "1         12       13  LEBI.20110509.030808.46.wav   \n",
       "2         20       21  LEBI.20110509.030808.46.wav   \n",
       "\n",
       "                                        path           order  prob_order  \\\n",
       "0  ./test_inputs/LEBI.20110509.030808.46.wav  Pelecaniformes    0.972657   \n",
       "1  ./test_inputs/LEBI.20110509.030808.46.wav  Pelecaniformes    0.973123   \n",
       "2  ./test_inputs/LEBI.20110509.030808.46.wav  Pelecaniformes    0.863307   \n",
       "\n",
       "     family  prob_family group  prob_group species  prob_species     class  \\\n",
       "0  Ardeidae     0.974137   NaN         NaN  leabit      0.999182    leabit   \n",
       "1  Ardeidae     0.974991   NaN         NaN  leabit      0.999848    leabit   \n",
       "2  Ardeidae     0.836264   NaN         NaN     NaN           NaN  Ardeidae   \n",
       "\n",
       "       prob  \n",
       "0  0.999182  \n",
       "1  0.999848  \n",
       "2  0.836264  "
      ]
     },
     "execution_count": 12,
     "metadata": {},
     "output_type": "execute_result"
    }
   ],
   "source": [
    "detect_df"
   ]
  },
  {
   "cell_type": "code",
   "execution_count": 13,
   "id": "4ec8ea2f-96d9-42d1-836b-675547847160",
   "metadata": {},
   "outputs": [],
   "source": [
    "out_dir = os.path.join(trained_saved_model_dir,'test_outputs')\n",
    "if not os.path.exists(out_dir):\n",
    "    os.makedirs(out_dir)\n",
    "\n",
    "run_reconstructed_model.save_detections_to_file(detect_df, \n",
    "                            test_filename,\n",
    "                            out_dir)\n",
    "\n",
    "run_reconstructed_model.save_raven_selection_table(detect_df,\n",
    "                               test_filename,\n",
    "                               out_dir)"
   ]
  },
  {
   "cell_type": "code",
   "execution_count": null,
   "id": "bbee3d4a-3aba-4c1c-b21a-216d79ec12f0",
   "metadata": {},
   "outputs": [],
   "source": []
  }
 ],
 "metadata": {
  "kernelspec": {
   "display_name": "Python 3 (ipykernel)",
   "language": "python",
   "name": "python3"
  },
  "language_info": {
   "codemirror_mode": {
    "name": "ipython",
    "version": 3
   },
   "file_extension": ".py",
   "mimetype": "text/x-python",
   "name": "python",
   "nbconvert_exporter": "python",
   "pygments_lexer": "ipython3",
   "version": "3.10.6"
  }
 },
 "nbformat": 4,
 "nbformat_minor": 5
}
